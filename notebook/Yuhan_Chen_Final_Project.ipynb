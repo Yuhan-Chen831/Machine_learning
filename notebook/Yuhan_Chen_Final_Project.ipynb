{
 "cells": [
  {
   "cell_type": "markdown",
   "metadata": {},
   "source": [
    "Yuhan Chen 3009389875"
   ]
  },
  {
   "cell_type": "code",
   "execution_count": 1,
   "metadata": {},
   "outputs": [
    {
     "name": "stdout",
     "output_type": "stream",
     "text": [
      "Requirement already satisfied: opencv-python in /Users/yuhan/opt/anaconda3/lib/python3.8/site-packages (4.6.0.66)\n",
      "Requirement already satisfied: numpy>=1.14.5 in /Users/yuhan/opt/anaconda3/lib/python3.8/site-packages (from opencv-python) (1.23.5)\n"
     ]
    }
   ],
   "source": [
    "from numpy import array\n",
    "from numpy import argmax\n",
    "from sklearn.preprocessing import LabelEncoder\n",
    "from sklearn.preprocessing import OneHotEncoder\n",
    "!pip install opencv-python"
   ]
  },
  {
   "cell_type": "code",
   "execution_count": 2,
   "metadata": {},
   "outputs": [],
   "source": [
    "import tensorflow as tf\n",
    "import warnings\n",
    "warnings.filterwarnings('ignore')"
   ]
  },
  {
   "cell_type": "code",
   "execution_count": 4,
   "metadata": {},
   "outputs": [],
   "source": [
    "import pandas as pd\n",
    "import numpy  as np\n",
    "from numpy import array\n",
    "import matplotlib.pyplot as plt\n",
    "import os,pathlib,PIL\n",
    "from tensorflow.keras import layers,models,Sequential,Input,Model\n",
    "from tensorflow.keras.layers import Conv2D,MaxPooling2D,Flatten,Dense,BatchNormalization,ZeroPadding2D,Activation,AveragePooling2D"
   ]
  },
  {
   "cell_type": "code",
   "execution_count": 10,
   "metadata": {},
   "outputs": [
    {
     "data": {
      "text/plain": [
       "<generator object Path.glob at 0x7ff7d81a2740>"
      ]
     },
     "execution_count": 10,
     "metadata": {},
     "output_type": "execute_result"
    }
   ],
   "source": []
  },
  {
   "cell_type": "code",
   "execution_count": 1,
   "metadata": {},
   "outputs": [
    {
     "name": "stdout",
     "output_type": "stream",
     "text": [
      "Collecting split-folders\n",
      "  Downloading split_folders-0.5.1-py3-none-any.whl (8.4 kB)\n",
      "Installing collected packages: split-folders\n",
      "Successfully installed split-folders-0.5.1\n",
      "Note: you may need to restart the kernel to use updated packages.\n"
     ]
    }
   ],
   "source": [
    "pip install split-folders"
   ]
  },
  {
   "cell_type": "markdown",
   "metadata": {},
   "source": [
    "Randomly select ⌈0.7ni⌉ images from each folder as your training set, ⌈0.15ni⌉ as validation set, and the rest as your test set, where ni is the number of images in folder i and ⌈x⌉ is the ceiling of x."
   ]
  },
  {
   "cell_type": "code",
   "execution_count": 4,
   "metadata": {},
   "outputs": [
    {
     "name": "stderr",
     "output_type": "stream",
     "text": [
      "Copying files: 1176 files [00:01, 1062.19 files/s]\n"
     ]
    }
   ],
   "source": [
    "import splitfolders\n",
    "splitfolders.ratio('../data/images',output='../data/imagespliter',seed = 7, ratio=(.7,.15,.15)\n",
    "                   ,group_prefix=None, move=False)"
   ]
  },
  {
   "cell_type": "markdown",
   "metadata": {},
   "source": [
    " Images in each class are given in separate folders. The file Classes.xlsx pro- vides the classes assigned to the bird species images in each folder. Therefore, you encode your classes using one-hot encoding and Classes.xlsx."
   ]
  },
  {
   "cell_type": "code",
   "execution_count": 5,
   "metadata": {},
   "outputs": [
    {
     "name": "stdout",
     "output_type": "stream",
     "text": [
      "Found 820 files belonging to 20 classes.\n",
      "Found 185 files belonging to 20 classes.\n",
      "Found 171 files belonging to 20 classes.\n"
     ]
    }
   ],
   "source": [
    "batch_size = 5\n",
    "train_df = tf.keras.utils.image_dataset_from_directory('../data/imagespliter/train', \n",
    "                             image_size = (224,224),  batch_size=batch_size, labels = 'inferred',label_mode = 'categorical')\n",
    "test_df = tf.keras.utils.image_dataset_from_directory('../data/imagespliter/test', \n",
    "                             image_size = (224,224), batch_size=batch_size,labels = 'inferred',label_mode = 'categorical')\n",
    "validate_df = tf.keras.utils.image_dataset_from_directory('../data/imagespliter/val', \n",
    "                             image_size = (224,224), labels = 'inferred',batch_size=batch_size, label_mode = 'categorical')"
   ]
  },
  {
   "cell_type": "code",
   "execution_count": 7,
   "metadata": {},
   "outputs": [
    {
     "name": "stdout",
     "output_type": "stream",
     "text": [
      "WARNING:tensorflow:There are non-GPU devices in `tf.distribute.Strategy`, not using nccl allreduce.\n",
      "INFO:tensorflow:Using MirroredStrategy with devices ('/job:localhost/replica:0/task:0/device:CPU:0',)\n",
      "Number of devices: 1\n"
     ]
    }
   ],
   "source": [
    "strategy = tf.distribute.MirroredStrategy()\n",
    "print('Number of devices: %d' % strategy.num_replicas_in_sync)  # 输出设备数量"
   ]
  },
  {
   "cell_type": "markdown",
   "metadata": {},
   "source": [
    "i. Use ReLU activation functions in the last layer and a softmax layer, along with batch normalization 4 and a dropout rate of 20% as well as ADAM optimizer. Use multinomial cross entropy loss. You can try any batch size, but a batch size of 5 seems reasonable."
   ]
  },
  {
   "cell_type": "code",
   "execution_count": 9,
   "metadata": {},
   "outputs": [
    {
     "name": "stdout",
     "output_type": "stream",
     "text": [
      "Epoch 1/25\n",
      "164/164 - 35s - loss: 2.1713 - accuracy: 0.6707 - val_loss: 0.7986 - val_accuracy: 0.8538 - 35s/epoch - 214ms/step\n",
      "Epoch 2/25\n",
      "164/164 - 30s - loss: 1.2077 - accuracy: 0.8329 - val_loss: 0.8662 - val_accuracy: 0.8596 - 30s/epoch - 183ms/step\n",
      "Epoch 3/25\n",
      "164/164 - 29s - loss: 0.5989 - accuracy: 0.9085 - val_loss: 1.2957 - val_accuracy: 0.8830 - 29s/epoch - 174ms/step\n",
      "Epoch 4/25\n",
      "164/164 - 29s - loss: 0.8014 - accuracy: 0.8927 - val_loss: 1.9323 - val_accuracy: 0.8538 - 29s/epoch - 174ms/step\n",
      "Epoch 5/25\n",
      "164/164 - 28s - loss: 0.7844 - accuracy: 0.9037 - val_loss: 2.0695 - val_accuracy: 0.8655 - 28s/epoch - 173ms/step\n",
      "Epoch 6/25\n",
      "164/164 - 28s - loss: 1.0609 - accuracy: 0.8854 - val_loss: 1.4910 - val_accuracy: 0.8830 - 28s/epoch - 173ms/step\n",
      "Epoch 7/25\n",
      "164/164 - 29s - loss: 0.6305 - accuracy: 0.9354 - val_loss: 2.0820 - val_accuracy: 0.8538 - 29s/epoch - 175ms/step\n",
      "Epoch 8/25\n",
      "164/164 - 217s - loss: 0.6254 - accuracy: 0.9329 - val_loss: 2.6753 - val_accuracy: 0.8538 - 217s/epoch - 1s/step\n",
      "Epoch 9/25\n",
      "164/164 - 28s - loss: 0.7921 - accuracy: 0.9183 - val_loss: 2.1706 - val_accuracy: 0.8538 - 28s/epoch - 168ms/step\n",
      "Epoch 10/25\n",
      "164/164 - 28s - loss: 1.0871 - accuracy: 0.9000 - val_loss: 1.8971 - val_accuracy: 0.8830 - 28s/epoch - 170ms/step\n",
      "Epoch 11/25\n",
      "164/164 - 31s - loss: 0.7762 - accuracy: 0.9329 - val_loss: 2.0812 - val_accuracy: 0.9064 - 31s/epoch - 189ms/step\n",
      "Epoch 12/25\n",
      "164/164 - 28s - loss: 0.7702 - accuracy: 0.9329 - val_loss: 1.5150 - val_accuracy: 0.9123 - 28s/epoch - 172ms/step\n",
      "Epoch 13/25\n",
      "164/164 - 28s - loss: 0.9782 - accuracy: 0.9244 - val_loss: 2.0771 - val_accuracy: 0.9064 - 28s/epoch - 171ms/step\n",
      "Epoch 14/25\n",
      "164/164 - 28s - loss: 0.7135 - accuracy: 0.9293 - val_loss: 2.0666 - val_accuracy: 0.9064 - 28s/epoch - 171ms/step\n",
      "Epoch 15/25\n",
      "164/164 - 28s - loss: 0.8835 - accuracy: 0.9341 - val_loss: 2.2659 - val_accuracy: 0.8772 - 28s/epoch - 172ms/step\n",
      "Epoch 16/25\n",
      "164/164 - 29s - loss: 1.0350 - accuracy: 0.9268 - val_loss: 1.7171 - val_accuracy: 0.9006 - 29s/epoch - 174ms/step\n",
      "Epoch 17/25\n",
      "164/164 - 31s - loss: 0.7624 - accuracy: 0.9439 - val_loss: 2.4815 - val_accuracy: 0.8772 - 31s/epoch - 191ms/step\n",
      "Epoch 18/25\n",
      "164/164 - 31s - loss: 0.4547 - accuracy: 0.9549 - val_loss: 2.0149 - val_accuracy: 0.9123 - 31s/epoch - 189ms/step\n",
      "Epoch 19/25\n",
      "164/164 - 28s - loss: 0.6784 - accuracy: 0.9500 - val_loss: 1.3831 - val_accuracy: 0.9357 - 28s/epoch - 173ms/step\n",
      "Epoch 20/25\n",
      "164/164 - 28s - loss: 0.5511 - accuracy: 0.9500 - val_loss: 2.2116 - val_accuracy: 0.9123 - 28s/epoch - 173ms/step\n",
      "Epoch 21/25\n",
      "164/164 - 28s - loss: 0.7767 - accuracy: 0.9549 - val_loss: 1.8785 - val_accuracy: 0.8947 - 28s/epoch - 173ms/step\n",
      "Epoch 22/25\n",
      "164/164 - 28s - loss: 0.8437 - accuracy: 0.9415 - val_loss: 2.9628 - val_accuracy: 0.8830 - 28s/epoch - 173ms/step\n",
      "Epoch 23/25\n",
      "164/164 - 28s - loss: 0.5050 - accuracy: 0.9561 - val_loss: 2.6724 - val_accuracy: 0.9123 - 28s/epoch - 173ms/step\n",
      "Epoch 24/25\n",
      "164/164 - 28s - loss: 0.8351 - accuracy: 0.9512 - val_loss: 3.5089 - val_accuracy: 0.8947 - 28s/epoch - 173ms/step\n",
      "Epoch 25/25\n",
      "164/164 - 28s - loss: 0.8929 - accuracy: 0.9488 - val_loss: 3.0256 - val_accuracy: 0.9181 - 28s/epoch - 173ms/step\n"
     ]
    },
    {
     "ename": "NameError",
     "evalue": "name 'plot_hist' is not defined",
     "output_type": "error",
     "traceback": [
      "\u001b[0;31m---------------------------------------------------------------------------\u001b[0m",
      "\u001b[0;31mNameError\u001b[0m                                 Traceback (most recent call last)",
      "\u001b[0;32m<ipython-input-9-525864e063c1>\u001b[0m in \u001b[0;36m<module>\u001b[0;34m\u001b[0m\n\u001b[1;32m     25\u001b[0m \u001b[0mepochs\u001b[0m \u001b[0;34m=\u001b[0m \u001b[0;36m25\u001b[0m  \u001b[0;31m# @param {type: \"slider\", min:8, max:80}\u001b[0m\u001b[0;34m\u001b[0m\u001b[0;34m\u001b[0m\u001b[0m\n\u001b[1;32m     26\u001b[0m \u001b[0mhist\u001b[0m \u001b[0;34m=\u001b[0m \u001b[0mmodel\u001b[0m\u001b[0;34m.\u001b[0m\u001b[0mfit\u001b[0m\u001b[0;34m(\u001b[0m\u001b[0mtrain_df\u001b[0m\u001b[0;34m,\u001b[0m \u001b[0mepochs\u001b[0m\u001b[0;34m=\u001b[0m\u001b[0mepochs\u001b[0m\u001b[0;34m,\u001b[0m \u001b[0mvalidation_data\u001b[0m\u001b[0;34m=\u001b[0m\u001b[0mvalidate_df\u001b[0m\u001b[0;34m,\u001b[0m \u001b[0mverbose\u001b[0m\u001b[0;34m=\u001b[0m\u001b[0;36m2\u001b[0m\u001b[0;34m)\u001b[0m\u001b[0;34m\u001b[0m\u001b[0;34m\u001b[0m\u001b[0m\n\u001b[0;32m---> 27\u001b[0;31m \u001b[0mplot_hist\u001b[0m\u001b[0;34m(\u001b[0m\u001b[0mhist\u001b[0m\u001b[0;34m)\u001b[0m\u001b[0;34m\u001b[0m\u001b[0;34m\u001b[0m\u001b[0m\n\u001b[0m",
      "\u001b[0;31mNameError\u001b[0m: name 'plot_hist' is not defined"
     ]
    }
   ],
   "source": [
    "from tensorflow.keras.models import Sequential\n",
    "from tensorflow.keras import layers\n",
    "from tensorflow.keras.applications import EfficientNetB0\n",
    "\n",
    "def build_model(num_classes):\n",
    "    inputs = layers.Input(shape=(224, 224,3))\n",
    "    model = EfficientNetB0(include_top=False, input_tensor=inputs, weights=\"imagenet\")\n",
    "    model.trainable = False\n",
    "    x = layers.GlobalAveragePooling2D(name=\"avg_pool\")(model.output)\n",
    "    x = layers.BatchNormalization()(x)\n",
    "\n",
    "    top_dropout_rate = 0.2\n",
    "    x = layers.Dropout(top_dropout_rate, name=\"top_dropout\")(x)\n",
    "    outputs = layers.Dense(num_classes, activation=\"softmax\", name=\"pred\")(x)\n",
    "    model = tf.keras.Model(inputs, outputs, name=\"EfficientNet\")\n",
    "    optimizer = tf.keras.optimizers.Adam(learning_rate=1e-2)\n",
    "    model.compile(\n",
    "        optimizer=optimizer, loss=\"categorical_crossentropy\", metrics=[\"accuracy\"]\n",
    "    )\n",
    "    return model\n",
    "\n",
    "with strategy.scope():\n",
    "    model = build_model(num_classes=20)\n",
    "\n",
    "epochs = 25  # @param {type: \"slider\", min:8, max:80}\n",
    "hist = model.fit(train_df, epochs=epochs, validation_data=validate_df, verbose=2)"
   ]
  },
  {
   "cell_type": "code",
   "execution_count": 13,
   "metadata": {},
   "outputs": [
    {
     "data": {
      "image/png": "[encoded data removed]",
      "text/plain": [
       "<Figure size 432x288 with 1 Axes>"
      ]
     },
     "metadata": {
      "needs_background": "light"
     },
     "output_type": "display_data"
    }
   ],
   "source": [
    "import matplotlib.pyplot as plt\n",
    "\n",
    "def plot_hist(hist):\n",
    "    plt.plot(hist.history[\"accuracy\"])\n",
    "    plt.plot(hist.history[\"val_accuracy\"])\n",
    "    plt.title(\"model accuracy\")\n",
    "    plt.ylabel(\"accuracy\")\n",
    "    plt.xlabel(\"epoch\")\n",
    "    plt.legend([\"train\", \"validation\"], loc=\"upper left\")\n",
    "    plt.show()\n",
    "\n",
    "\n",
    "plot_hist(hist)"
   ]
  },
  {
   "cell_type": "code",
   "execution_count": 16,
   "metadata": {},
   "outputs": [],
   "source": [
    "#early stop by min val_loss\n",
    "from tensorflow.keras.models import Sequential\n",
    "from tensorflow.keras import layers\n",
    "\n",
    "from tensorflow.keras.callbacks import EarlyStopping\n",
    "custom_early_stopping = EarlyStopping(\n",
    "    monitor='val_loss', \n",
    "    patience=8, \n",
    "    min_delta=0.001, \n",
    "    mode='min'\n",
    ")\n",
    "\n",
    "img_augmentation = Sequential(\n",
    "    [\n",
    "        layers.RandomRotation(factor=0.15),\n",
    "        layers.RandomTranslation(height_factor=0.1, width_factor=0.1),\n",
    "        layers.RandomFlip(),\n",
    "        layers.RandomContrast(factor=0.1),\n",
    "    ],\n",
    "    name=\"img_augmentation\",\n",
    ")"
   ]
  },
  {
   "cell_type": "markdown",
   "metadata": {},
   "source": [
    "Train the networks (EfficientNetB0 and VGG16) for at least 50 epochs (preferably 100 epochs) and perform early stopping using the validation set. Keep the network parameters that have the lowest validation error. Plot the training and validation errors vs. epochs."
   ]
  },
  {
   "cell_type": "markdown",
   "metadata": {},
   "source": [
    "EfficientNetB0"
   ]
  },
  {
   "cell_type": "code",
   "execution_count": 131,
   "metadata": {},
   "outputs": [
    {
     "name": "stdout",
     "output_type": "stream",
     "text": [
      "Epoch 1/50\n",
      "164/164 - 39s - loss: 2.0889 - accuracy: 0.4939 - val_loss: 1.3839 - val_accuracy: 0.6082 - 39s/epoch - 238ms/step\n",
      "Epoch 2/50\n",
      "164/164 - 29s - loss: 1.0395 - accuracy: 0.7061 - val_loss: 0.7150 - val_accuracy: 0.7953 - 29s/epoch - 180ms/step\n",
      "Epoch 3/50\n",
      "164/164 - 30s - loss: 0.9068 - accuracy: 0.7549 - val_loss: 0.6610 - val_accuracy: 0.8363 - 30s/epoch - 184ms/step\n",
      "Epoch 4/50\n",
      "164/164 - 30s - loss: 0.9424 - accuracy: 0.7720 - val_loss: 0.5079 - val_accuracy: 0.8655 - 30s/epoch - 181ms/step\n",
      "Epoch 5/50\n",
      "164/164 - 32s - loss: 0.8291 - accuracy: 0.7927 - val_loss: 0.8295 - val_accuracy: 0.8187 - 32s/epoch - 192ms/step\n",
      "Epoch 6/50\n",
      "164/164 - 30s - loss: 0.8412 - accuracy: 0.8012 - val_loss: 1.0115 - val_accuracy: 0.8129 - 30s/epoch - 183ms/step\n",
      "Epoch 7/50\n",
      "164/164 - 30s - loss: 0.6682 - accuracy: 0.8183 - val_loss: 0.8752 - val_accuracy: 0.8070 - 30s/epoch - 184ms/step\n",
      "Epoch 8/50\n",
      "164/164 - 30s - loss: 0.7765 - accuracy: 0.8232 - val_loss: 0.7092 - val_accuracy: 0.8421 - 30s/epoch - 183ms/step\n",
      "Epoch 9/50\n",
      "164/164 - 31s - loss: 0.6770 - accuracy: 0.8488 - val_loss: 0.5462 - val_accuracy: 0.8830 - 31s/epoch - 187ms/step\n",
      "Epoch 10/50\n",
      "164/164 - 30s - loss: 0.5760 - accuracy: 0.8573 - val_loss: 0.8501 - val_accuracy: 0.8596 - 30s/epoch - 182ms/step\n",
      "Epoch 11/50\n",
      "164/164 - 29s - loss: 0.6187 - accuracy: 0.8524 - val_loss: 0.8389 - val_accuracy: 0.8596 - 29s/epoch - 179ms/step\n",
      "Epoch 12/50\n",
      "164/164 - 30s - loss: 0.5850 - accuracy: 0.8598 - val_loss: 0.7714 - val_accuracy: 0.8713 - 30s/epoch - 185ms/step\n"
     ]
    },
    {
     "data": {
      "image/png": "[encoded data removed]",
      "text/plain": [
       "<Figure size 432x288 with 1 Axes>"
      ]
     },
     "metadata": {
      "needs_background": "light"
     },
     "output_type": "display_data"
    }
   ],
   "source": [
    "from tensorflow.keras.models import Sequential\n",
    "from tensorflow.keras import layers\n",
    "from tensorflow.keras.applications import EfficientNetB0\n",
    "\n",
    "def build_model(num_classes):\n",
    "    inputs = layers.Input(shape=(224,224,3))\n",
    "    x = img_augmentation(inputs)\n",
    "    model = EfficientNetB0(include_top=False, input_tensor=inputs, weights=\"imagenet\")\n",
    "    model.trainable = False\n",
    "    x = layers.GlobalAveragePooling2D(name=\"avg_pool\")(model.output)\n",
    "    x = layers.BatchNormalization()(x)\n",
    "    top_dropout_rate = 0.2\n",
    "    x = layers.Dropout(top_dropout_rate, name=\"top_dropout\")(x)\n",
    "    layerA_out = layers.Dense(num_classes,activation = 'relu')(x)\n",
    "    outputs = layers.Dense(num_classes, activation=\"softmax\", name=\"pred\")(layerA_out)\n",
    "    model = tf.keras.Model(inputs, outputs, name=\"EfficientNetB0\")\n",
    "    optimizer = tf.keras.optimizers.Adam(learning_rate=1e-2)\n",
    "    model.compile(\n",
    "        optimizer=optimizer, loss=\"categorical_crossentropy\", metrics=[\"accuracy\"]\n",
    "    )\n",
    "    return model\n",
    "\n",
    "with strategy.scope():\n",
    "    model_EfficientNetB0 = build_model(num_classes=20)\n",
    "\n",
    "epochs = 50  # @param {type: \"slider\", min:8, max:80}\n",
    "hist = model_EfficientNetB0.fit(train_df, epochs=epochs, validation_data=validate_df, verbose=2,callbacks=[custom_early_stopping])\n",
    "\n",
    "plt.plot(hist.history[\"loss\"])\n",
    "plt.plot(hist.history[\"val_loss\"])\n",
    "plt.title(\"model accuracy for EfficientNetB0\")\n",
    "plt.ylabel(\"val_error\")\n",
    "plt.xlabel(\"epoch\")\n",
    "plt.legend([\"train\", \"validation\"], loc=\"upper left\")\n",
    "plt.show()\n"
   ]
  },
  {
   "cell_type": "markdown",
   "metadata": {},
   "source": [
    "vgg16"
   ]
  },
  {
   "cell_type": "code",
   "execution_count": 132,
   "metadata": {},
   "outputs": [
    {
     "name": "stdout",
     "output_type": "stream",
     "text": [
      "Epoch 1/50\n",
      "164/164 - 129s - loss: 2.6196 - accuracy: 0.2683 - val_loss: 1.7103 - val_accuracy: 0.4971 - 129s/epoch - 784ms/step\n",
      "Epoch 2/50\n",
      "164/164 - 128s - loss: 1.7218 - accuracy: 0.4659 - val_loss: 1.5342 - val_accuracy: 0.6199 - 128s/epoch - 778ms/step\n",
      "Epoch 3/50\n",
      "164/164 - 126s - loss: 1.5551 - accuracy: 0.5268 - val_loss: 1.1473 - val_accuracy: 0.6491 - 126s/epoch - 766ms/step\n",
      "Epoch 4/50\n",
      "164/164 - 129s - loss: 1.4110 - accuracy: 0.5829 - val_loss: 1.3635 - val_accuracy: 0.6140 - 129s/epoch - 784ms/step\n",
      "Epoch 5/50\n",
      "164/164 - 128s - loss: 1.3120 - accuracy: 0.6098 - val_loss: 1.4402 - val_accuracy: 0.6433 - 128s/epoch - 780ms/step\n",
      "Epoch 6/50\n",
      "164/164 - 127s - loss: 1.2754 - accuracy: 0.6134 - val_loss: 1.2786 - val_accuracy: 0.6550 - 127s/epoch - 776ms/step\n",
      "Epoch 7/50\n",
      "164/164 - 133s - loss: 1.1839 - accuracy: 0.6488 - val_loss: 1.2635 - val_accuracy: 0.6550 - 133s/epoch - 813ms/step\n",
      "Epoch 8/50\n",
      "164/164 - 130s - loss: 1.2767 - accuracy: 0.6378 - val_loss: 1.0024 - val_accuracy: 0.7485 - 130s/epoch - 794ms/step\n",
      "Epoch 9/50\n",
      "164/164 - 122s - loss: 1.0885 - accuracy: 0.6671 - val_loss: 1.2328 - val_accuracy: 0.6959 - 122s/epoch - 745ms/step\n",
      "Epoch 10/50\n",
      "164/164 - 121s - loss: 1.2305 - accuracy: 0.6378 - val_loss: 1.2030 - val_accuracy: 0.6725 - 121s/epoch - 739ms/step\n",
      "Epoch 11/50\n",
      "164/164 - 121s - loss: 1.1811 - accuracy: 0.6354 - val_loss: 1.2845 - val_accuracy: 0.6433 - 121s/epoch - 736ms/step\n",
      "Epoch 12/50\n",
      "164/164 - 121s - loss: 1.1461 - accuracy: 0.6573 - val_loss: 1.3838 - val_accuracy: 0.6901 - 121s/epoch - 738ms/step\n",
      "Epoch 13/50\n",
      "164/164 - 121s - loss: 1.1057 - accuracy: 0.6768 - val_loss: 1.1995 - val_accuracy: 0.6901 - 121s/epoch - 740ms/step\n",
      "Epoch 14/50\n",
      "164/164 - 127s - loss: 1.0298 - accuracy: 0.6939 - val_loss: 1.2197 - val_accuracy: 0.6608 - 127s/epoch - 772ms/step\n",
      "Epoch 15/50\n",
      "164/164 - 128s - loss: 1.1458 - accuracy: 0.6915 - val_loss: 1.3720 - val_accuracy: 0.6725 - 128s/epoch - 783ms/step\n",
      "Epoch 16/50\n",
      "164/164 - 127s - loss: 1.0685 - accuracy: 0.7171 - val_loss: 1.2667 - val_accuracy: 0.6901 - 127s/epoch - 773ms/step\n"
     ]
    },
    {
     "data": {
      "text/plain": [
       "<matplotlib.legend.Legend at 0x7fdedbc35d00>"
      ]
     },
     "execution_count": 132,
     "metadata": {},
     "output_type": "execute_result"
    },
    {
     "data": {
      "image/png": "[encoded data removed]",
      "text/plain": [
       "<Figure size 432x288 with 1 Axes>"
      ]
     },
     "metadata": {
      "needs_background": "light"
     },
     "output_type": "display_data"
    }
   ],
   "source": [
    "from tensorflow.keras.models import Sequential\n",
    "from tensorflow.keras import layers\n",
    "from tensorflow.keras.applications import EfficientNetB0\n",
    "from tensorflow.keras.applications.vgg16 import VGG16\n",
    "from tensorflow.keras import layers\n",
    "from tensorflow.keras import activations\n",
    "\n",
    "def build_model(num_classes):\n",
    "    inputs = layers.Input(shape=(224, 224, 3))\n",
    "    x = img_augmentation(inputs)\n",
    "    model = VGG16(include_top=False, input_tensor=inputs, weights=\"imagenet\")\n",
    "    model.trainable = False\n",
    "    x = layers.GlobalAveragePooling2D(name=\"avg_pool\")(model.output)\n",
    "    x = layers.BatchNormalization()(x)\n",
    "    top_dropout_rate = 0.2\n",
    "    x = layers.Dropout(top_dropout_rate, name=\"top_dropout\")(x)\n",
    "    layerA_out = layers.Dense(num_classes,activation = 'relu')(x)\n",
    "    outputs = layers.Dense(num_classes, activation=\"softmax\", name=\"pred\")(layerA_out)\n",
    "    model = tf.keras.Model(inputs, outputs, name=\"VGG16\")\n",
    "    optimizer = tf.keras.optimizers.Adam(learning_rate=1e-2)\n",
    "    model.compile(\n",
    "        optimizer=optimizer, loss=\"categorical_crossentropy\", metrics=[\"accuracy\"]\n",
    "    )\n",
    "    return model\n",
    "\n",
    "with strategy.scope():\n",
    "    \n",
    "    model_vgg16 = build_model(num_classes=20)\n",
    "\n",
    "epochs = 50  # @param {type: \"slider\", min:8, max:80}\n",
    "hist = model_vgg16.fit(train_df, epochs=epochs, validation_data=validate_df, verbose=2,callbacks=[custom_early_stopping])\n",
    "plt.plot(hist.history[\"loss\"])\n",
    "plt.plot(hist.history[\"val_loss\"])\n",
    "plt.title(\"model accuracy for VGG16\")\n",
    "plt.ylabel(\"error\")\n",
    "plt.xlabel(\"epoch\")\n",
    "plt.legend([\"train\", \"validation\"], loc=\"upper left\")"
   ]
  },
  {
   "cell_type": "markdown",
   "metadata": {},
   "source": [
    "Report Precision, Recall, and F1 score for your model. Remember that this is a multi-class classification problem."
   ]
  },
  {
   "cell_type": "code",
   "execution_count": 133,
   "metadata": {},
   "outputs": [
    {
     "name": "stdout",
     "output_type": "stream",
     "text": [
      "37/37 [==============================] - 7s 140ms/step\n"
     ]
    }
   ],
   "source": [
    "test_pre = model_EfficientNetB0.predict(test_df)"
   ]
  },
  {
   "cell_type": "code",
   "execution_count": 134,
   "metadata": {},
   "outputs": [
    {
     "name": "stdout",
     "output_type": "stream",
     "text": [
      "37/37 [==============================] - 23s 626ms/step\n"
     ]
    }
   ],
   "source": [
    "test_pre_vgg = model_vgg16.predict(test_df)"
   ]
  },
  {
   "cell_type": "code",
   "execution_count": 135,
   "metadata": {},
   "outputs": [
    {
     "name": "stdout",
     "output_type": "stream",
     "text": [
      "Found 185 images belonging to 20 classes.\n"
     ]
    }
   ],
   "source": [
    "from keras.preprocessing.image import ImageDataGenerator\n",
    "\n",
    "height=224\n",
    "width=224\n",
    "batch_size=5\n",
    "\n",
    "test_datagen = ImageDataGenerator(rescale=1./224)\n",
    "\n",
    "test_generator = test_datagen.flow_from_directory(\n",
    "        '../data/imagespliter/test',\n",
    "        target_size=(height, width),\n",
    "        batch_size=batch_size,\n",
    "        class_mode='categorical')\n"
   ]
  },
  {
   "cell_type": "code",
   "execution_count": 154,
   "metadata": {},
   "outputs": [],
   "source": [
    "import numpy\n",
    "pre_label =[]\n",
    "for i in range(185):\n",
    "    test_pre[i].tolist()\n",
    "    max_value = max(test_pre[i].tolist())\n",
    "    index = test_pre[i].tolist().index(max_value)\n",
    "    pre_label.append(index)\n",
    "pre_label = numpy.array(pre_label)"
   ]
  },
  {
   "cell_type": "code",
   "execution_count": 64,
   "metadata": {},
   "outputs": [],
   "source": [
    "from sklearn.metrics import classification_report"
   ]
  },
  {
   "cell_type": "code",
   "execution_count": 151,
   "metadata": {},
   "outputs": [],
   "source": [
    "true_label = test_generator.classes"
   ]
  },
  {
   "cell_type": "code",
   "execution_count": 152,
   "metadata": {},
   "outputs": [
    {
     "data": {
      "text/plain": [
       "array([ 0,  0,  0,  0,  0,  0,  0,  0,  1,  1,  1,  1,  1,  1,  1,  1,  1,\n",
       "        2,  2,  2,  2,  2,  2,  2,  2,  2,  2,  3,  3,  3,  3,  3,  3,  3,\n",
       "        3,  3,  3,  4,  4,  4,  4,  4,  4,  4,  4,  4,  5,  5,  5,  5,  5,\n",
       "        5,  5,  5,  5,  6,  6,  6,  6,  6,  6,  6,  6,  6,  7,  7,  7,  7,\n",
       "        7,  7,  7,  7,  7,  8,  8,  8,  8,  8,  8,  8,  8,  8,  9,  9,  9,\n",
       "        9,  9,  9,  9,  9,  9, 10, 10, 10, 10, 10, 10, 10, 10, 10, 11, 11,\n",
       "       11, 11, 11, 11, 11, 11, 11, 12, 12, 12, 12, 12, 12, 12, 12, 12, 13,\n",
       "       13, 13, 13, 13, 13, 13, 13, 13, 14, 14, 14, 14, 14, 14, 14, 14, 14,\n",
       "       15, 15, 15, 15, 15, 15, 15, 15, 15, 15, 16, 16, 16, 16, 16, 16, 16,\n",
       "       16, 16, 16, 17, 17, 17, 17, 17, 17, 17, 17, 17, 17, 18, 18, 18, 18,\n",
       "       18, 18, 18, 18, 18, 19, 19, 19, 19, 19, 19, 19, 19, 19, 19],\n",
       "      dtype=int32)"
      ]
     },
     "execution_count": 152,
     "metadata": {},
     "output_type": "execute_result"
    }
   ],
   "source": [
    "true_label"
   ]
  },
  {
   "cell_type": "code",
   "execution_count": 155,
   "metadata": {},
   "outputs": [
    {
     "data": {
      "text/plain": [
       "array([19, 17,  8, 14,  8, 12,  9,  5, 15, 13,  3, 13, 14, 10, 11,  9, 15,\n",
       "       11, 15, 16,  2,  0,  6, 10, 19,  9,  3,  7,  2,  9, 14,  5, 10, 18,\n",
       "        7, 17,  0,  6, 13,  3,  3, 16, 11,  4,  0, 10, 19,  3,  4, 10, 12,\n",
       "        1,  8,  7, 17,  9,  7, 15,  8, 17,  6,  7, 15,  8,  6, 14,  8,  5,\n",
       "        1,  2,  6,  4, 18, 12,  3,  1,  5, 14,  2,  3, 12,  2, 19,  3,  2,\n",
       "       19,  7,  2,  2, 10,  7, 15, 16, 13, 11,  1, 11,  0,  2, 16, 14,  1,\n",
       "       14,  4,  8,  2,  0,  2, 13, 11,  4, 18,  1, 16, 10,  4, 15,  1,  1,\n",
       "       10,  5, 19,  4,  5,  4,  8, 12,  4, 11, 16, 11,  6,  3, 14, 11,  2,\n",
       "        7,  6, 11, 18, 17,  0,  2,  8, 16, 19, 14,  2, 15,  5, 14,  5, 11,\n",
       "        7, 14,  1, 17,  7, 14,  1, 16,  5, 17,  6,  9,  0,  2,  9, 12,  2,\n",
       "       10, 16,  2, 12,  1,  8, 17,  9, 10, 16,  5,  6, 13,  4, 17])"
      ]
     },
     "execution_count": 155,
     "metadata": {},
     "output_type": "execute_result"
    }
   ],
   "source": [
    "pre_label"
   ]
  },
  {
   "cell_type": "code",
   "execution_count": 158,
   "metadata": {},
   "outputs": [],
   "source": [
    "class_info = pd.read_excel('../data/Classes.xlsx')\n",
    "class_name = class_info.iloc[:,0].values.tolist()"
   ]
  },
  {
   "cell_type": "markdown",
   "metadata": {},
   "source": [
    "EfficientNetB0 precision recall f1-score"
   ]
  },
  {
   "cell_type": "code",
   "execution_count": 160,
   "metadata": {},
   "outputs": [
    {
     "name": "stdout",
     "output_type": "stream",
     "text": [
      "                               precision    recall  f1-score   support\n",
      "\n",
      "           005.Crested_Auklet       0.00      0.00      0.00         8\n",
      "                 013.Bobolink       0.00      0.00      0.00         9\n",
      "           015.Lazuli_Bunting       0.06      0.10      0.07        10\n",
      "         023.Brandt_Cormorant       0.00      0.00      0.00        10\n",
      "   040.Olive_sided_Flycatcher       0.10      0.11      0.11         9\n",
      "041.Scissor_tailed_Flycatcher       0.00      0.00      0.00         9\n",
      "         067.Anna_Hummingbird       0.11      0.11      0.11         9\n",
      "          072.Pomarine_Jaeger       0.00      0.00      0.00         9\n",
      "          076.Dark_eyed_Junco       0.00      0.00      0.00         9\n",
      "          081.Pied_Kingfisher       0.00      0.00      0.00         9\n",
      "        082.Ringed_Kingfisher       0.00      0.00      0.00         9\n",
      "             086.Pacific_Loon       0.00      0.00      0.00         9\n",
      "                 099.Ovenbird       0.00      0.00      0.00         9\n",
      "           104.American_Pipit       0.00      0.00      0.00         9\n",
      "         127.Savannah_Sparrow       0.08      0.11      0.10         9\n",
      "             135.Bank_Swallow       0.00      0.00      0.00        10\n",
      "               141.Artic_Tern       0.00      0.00      0.00        10\n",
      "           149.Brown_Thrasher       0.22      0.20      0.21        10\n",
      "         156.White_eyed_Vireo       0.00      0.00      0.00         9\n",
      "         168.Kentucky_Warbler       0.00      0.00      0.00        10\n",
      "\n",
      "                     accuracy                           0.03       185\n",
      "                    macro avg       0.03      0.03      0.03       185\n",
      "                 weighted avg       0.03      0.03      0.03       185\n",
      "\n"
     ]
    }
   ],
   "source": [
    "print(classification_report(true_label, pre_label,target_names=class_name))"
   ]
  },
  {
   "cell_type": "code",
   "execution_count": 168,
   "metadata": {},
   "outputs": [
    {
     "name": "stdout",
     "output_type": "stream",
     "text": [
      "37/37 [==============================] - 22s 594ms/step\n"
     ]
    }
   ],
   "source": [
    "test_pre_vgg = model_vgg16.predict(test_df)"
   ]
  },
  {
   "cell_type": "markdown",
   "metadata": {},
   "source": [
    "VGG‘s precision    recall  f1-score "
   ]
  },
  {
   "cell_type": "code",
   "execution_count": 169,
   "metadata": {},
   "outputs": [],
   "source": [
    "import numpy\n",
    "pre_label_vgg =[]\n",
    "for i in range(185):\n",
    "    test_pre_vgg[i].tolist()\n",
    "    max_value = max(test_pre_vgg[i].tolist())\n",
    "    index = test_pre_vgg[i].tolist().index(max_value)\n",
    "    pre_label_vgg.append(index)\n",
    "pre_label_vgg = numpy.array(pre_label_vgg)"
   ]
  },
  {
   "cell_type": "code",
   "execution_count": 170,
   "metadata": {},
   "outputs": [
    {
     "name": "stdout",
     "output_type": "stream",
     "text": [
      "                               precision    recall  f1-score   support\n",
      "\n",
      "           005.Crested_Auklet       0.11      0.12      0.12         8\n",
      "                 013.Bobolink       0.11      0.11      0.11         9\n",
      "           015.Lazuli_Bunting       0.22      0.20      0.21        10\n",
      "         023.Brandt_Cormorant       0.00      0.00      0.00        10\n",
      "   040.Olive_sided_Flycatcher       0.00      0.00      0.00         9\n",
      "041.Scissor_tailed_Flycatcher       0.00      0.00      0.00         9\n",
      "         067.Anna_Hummingbird       0.11      0.11      0.11         9\n",
      "          072.Pomarine_Jaeger       0.00      0.00      0.00         9\n",
      "          076.Dark_eyed_Junco       0.00      0.00      0.00         9\n",
      "          081.Pied_Kingfisher       0.00      0.00      0.00         9\n",
      "        082.Ringed_Kingfisher       0.00      0.00      0.00         9\n",
      "             086.Pacific_Loon       0.22      0.22      0.22         9\n",
      "                 099.Ovenbird       0.00      0.00      0.00         9\n",
      "           104.American_Pipit       0.00      0.00      0.00         9\n",
      "         127.Savannah_Sparrow       0.00      0.00      0.00         9\n",
      "             135.Bank_Swallow       0.17      0.20      0.18        10\n",
      "               141.Artic_Tern       0.09      0.10      0.10        10\n",
      "           149.Brown_Thrasher       0.06      0.10      0.07        10\n",
      "         156.White_eyed_Vireo       0.00      0.00      0.00         9\n",
      "         168.Kentucky_Warbler       0.15      0.20      0.17        10\n",
      "\n",
      "                     accuracy                           0.07       185\n",
      "                    macro avg       0.06      0.07      0.06       185\n",
      "                 weighted avg       0.06      0.07      0.07       185\n",
      "\n"
     ]
    }
   ],
   "source": [
    "print(classification_report(true_label, pre_label_vgg,target_names=class_name))"
   ]
  },
  {
   "cell_type": "code",
   "execution_count": null,
   "metadata": {},
   "outputs": [],
   "source": []
  }
 ],
 "metadata": {
  "kernelspec": {
   "display_name": "Python 3",
   "language": "python",
   "name": "python3"
  }
 },
 "nbformat": 4,
 "nbformat_minor": 4
}
